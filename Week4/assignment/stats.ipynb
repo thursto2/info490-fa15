{
 "cells": [
  {
   "cell_type": "markdown",
   "metadata": {
    "deletable": false,
    "nbgrader": {
     "checksum": "41a30ab8ea0a3c800ba0e101da71ec81",
     "grade": false,
     "grade_id": "header",
     "locked": true,
     "solution": false
    }
   },
   "source": [
    "Before you turn this problem in, make sure everything runs as expected. First, restart the kernel (in the menubar, select Kernel → Restart) and then run all cells (in the menubar, select Cell → Run All).\n",
    "\n",
    "Make sure you fill in any place that says YOUR CODE HERE.\n",
    "Do not write your answer in anywhere else other than where it says YOUR CODE HERE.\n",
    "\n",
    "First, write your name and NetID below:"
   ]
  },
  {
   "cell_type": "code",
   "execution_count": 1,
   "metadata": {
    "collapsed": true
   },
   "outputs": [],
   "source": [
    "NAME = 'Bryce Thurston'\n",
    "NETID = 'thursto2'"
   ]
  },
  {
   "cell_type": "markdown",
   "metadata": {
    "deletable": false,
    "nbgrader": {
     "checksum": "5916f319b550aac91b3c365d9250ac4e",
     "grade": false,
     "grade_id": "instructions_0",
     "locked": true,
     "solution": false
    }
   },
   "source": [
    "# Problem 4.1. Simple Statistics.\n",
    "\n",
    "In this problem, you will write a function that calculates the minimum, maximum, mean, and median values from a list of integers. Before writing the final function, I will break the problem into small steps so the autograder can give partial credit. In practice, you would probably write just one function `get_stats()` and be done.\n",
    "\n",
    "## Function: get\\_minimum()\n",
    "\n",
    "- In the following code cell, write a function named `get_minimum()` that takes a list and returns the minimum value of that list. The return value should be an integer.\n",
    "\n",
    "Tips:\n",
    "\n",
    "- You might want to use [sorted()](https://docs.python.org/3/library/functions.html#sorted) to handle an unordered list.\n",
    "- You may ignore any tips as long as your function does what it's supposed to, i.e. takes the specified argument(s) of the correct type(s) and returns the right values of the correct type(s). If your function passes the unit tests, your function is correct no matter which method you use."
   ]
  },
  {
   "cell_type": "code",
   "execution_count": 2,
   "metadata": {
    "collapsed": true,
    "deletable": false,
    "nbgrader": {
     "checksum": "621a66e0f8976cacb65a10fd736a34ad",
     "grade": false,
     "grade_id": "get_minimum_answer",
     "locked": false,
     "solution": true
    }
   },
   "outputs": [],
   "source": [
    "def get_minimum(input_list):\n",
    "    '''\n",
    "    Accepts a list of integers, and returns the minimum of the list.\n",
    "    \n",
    "    Parameters\n",
    "    ----------\n",
    "    input_list: A list of integers.\n",
    "      \n",
    "    Returns\n",
    "    -------\n",
    "    minimum: An integer. The minimum of input_list.\n",
    "    '''\n",
    "    #Could also use first element of sorted\n",
    "    minimum=int(min(input_list))\n",
    "    return minimum"
   ]
  },
  {
   "cell_type": "code",
   "execution_count": 3,
   "metadata": {
    "collapsed": false,
    "deletable": false,
    "nbgrader": {
     "checksum": "6c46f92dc83bdfbbba514522b975c449",
     "grade": true,
     "grade_id": "get_minimum_test",
     "locked": true,
     "points": 6,
     "solution": false
    }
   },
   "outputs": [],
   "source": [
    "from nose.tools import assert_equal\n",
    "assert_equal(get_minimum([0, 1, 2, 3, 4]), 0)\n",
    "assert_equal(get_minimum([1, 2, 3, 4]), 1)\n",
    "assert_equal(get_minimum([4, 3, 2, 1, 0]), 0)\n",
    "assert_equal(get_minimum([4, 1, 0, 2, 3]), 0)\n",
    "assert_equal(get_minimum(list(range(100))), 0)\n",
    "assert_equal(get_minimum(list(range(1, 100))), 1)"
   ]
  },
  {
   "cell_type": "markdown",
   "metadata": {
    "deletable": false,
    "nbgrader": {
     "checksum": "e5979e1bde50a1a5ea2cfd4f67d9cbe1",
     "grade": false,
     "grade_id": "instruction_1",
     "locked": true,
     "solution": false
    }
   },
   "source": [
    "## Function: get\\_maximum()\n",
    "\n",
    "- In the following code cell, write a function named `get_maximum()` that takes a list and returns the maxium value of that list. The return value should be an integer."
   ]
  },
  {
   "cell_type": "code",
   "execution_count": 4,
   "metadata": {
    "collapsed": true,
    "deletable": false,
    "nbgrader": {
     "checksum": "dbbc44a7e993f4d1338197f637e57aa4",
     "grade": false,
     "grade_id": "get_maximum_answer",
     "locked": false,
     "solution": true
    }
   },
   "outputs": [],
   "source": [
    "def get_maximum(input_list):\n",
    "    '''\n",
    "    Accepts a list of integers, and returns the maximum of the list.\n",
    "    \n",
    "    Parameters\n",
    "    ----------\n",
    "    input_list: A list of integers.\n",
    "      \n",
    "    Returns\n",
    "    -------\n",
    "    maximum: An integer. The maximum of input_list.\n",
    "    '''\n",
    "    #Could also use last element of sorted\n",
    "    maximum=int(max(input_list))\n",
    "    return maximum"
   ]
  },
  {
   "cell_type": "code",
   "execution_count": 5,
   "metadata": {
    "collapsed": false,
    "deletable": false,
    "nbgrader": {
     "checksum": "0728ebe84780214b0bda1c567decc279",
     "grade": true,
     "grade_id": "get_maximum_test",
     "locked": true,
     "points": 6,
     "solution": false
    }
   },
   "outputs": [],
   "source": [
    "assert_equal(get_maximum([0, 1, 2, 3, 4]), 4)\n",
    "assert_equal(get_maximum([0, 1, 2, 3]), 3)\n",
    "assert_equal(get_maximum([4, 3, 2, 1, 0]), 4)\n",
    "assert_equal(get_maximum([3, 4, 0, 2, 1]), 4)\n",
    "assert_equal(get_maximum(list(range(100))), 99)"
   ]
  },
  {
   "cell_type": "markdown",
   "metadata": {
    "deletable": false,
    "nbgrader": {
     "checksum": "b5587b2a420f9d7d27a750939c01dfd5",
     "grade": false,
     "grade_id": "instruction_2",
     "locked": true,
     "solution": false
    }
   },
   "source": [
    "## Function: get\\_mean()\n",
    "\n",
    "- In the following code cell, write a function named `get_mean()` that takes a list and returns the mean value of that list. The return value should be a float."
   ]
  },
  {
   "cell_type": "code",
   "execution_count": 6,
   "metadata": {
    "collapsed": true,
    "deletable": false,
    "nbgrader": {
     "checksum": "7f4df1f387710836f73fb48746cd36ee",
     "grade": false,
     "grade_id": "get_mean_answer",
     "locked": false,
     "points": 4,
     "solution": true
    }
   },
   "outputs": [],
   "source": [
    "def get_mean(input_list):\n",
    "    '''\n",
    "    Accepts a list of integers, and returns the mean of the list.\n",
    "    \n",
    "    Parameters\n",
    "    ----------\n",
    "    input_list: A list of integers.\n",
    "      \n",
    "    Returns\n",
    "    -------\n",
    "    mean: A float. The mean of input_list.\n",
    "    '''\n",
    "    \n",
    "    mean = sum(input_list)/len(input_list)\n",
    "    return mean"
   ]
  },
  {
   "cell_type": "code",
   "execution_count": 7,
   "metadata": {
    "collapsed": false,
    "deletable": false,
    "nbgrader": {
     "checksum": "980a444de0431e72d6ce06d3ab0a5536",
     "grade": true,
     "grade_id": "get_mean_test",
     "locked": true,
     "points": 6,
     "solution": false
    }
   },
   "outputs": [],
   "source": [
    "assert_equal(get_mean([0, 1, 2, 3]), 1.5)\n",
    "assert_equal(get_mean([0, 1, 2, 3, 4]), 2.0)\n",
    "assert_equal(get_mean([2, 0, 3, 1]), 1.5)\n",
    "assert_equal(get_mean([1, 3, 4, 2, 0]), 2.0)\n",
    "assert_equal(get_mean(list(range(0, 101))), 50.0)\n",
    "assert_equal(get_mean(list(range(1, 100))), 50.0)"
   ]
  },
  {
   "cell_type": "markdown",
   "metadata": {
    "deletable": false,
    "nbgrader": {
     "checksum": "1efb15e1403b2342da41c193e4a9e575",
     "grade": false,
     "grade_id": "instructions_3",
     "locked": true,
     "solution": false
    }
   },
   "source": [
    "## Function: get\\_median()\n",
    "\n",
    "- In the following code cell, write a function named `get_median()` that takes a list and returns the median value of that list. The return value should be a float.\n",
    "\n",
    "Tips:\n",
    "\n",
    "- If there is an even number of values in the list, there is no single middle value; in this case, take the median to be the mean of the two middle values."
   ]
  },
  {
   "cell_type": "code",
   "execution_count": 8,
   "metadata": {
    "collapsed": true,
    "deletable": false,
    "nbgrader": {
     "checksum": "52d2a145edfaeb165e5833850a78743e",
     "grade": false,
     "grade_id": "get_median_answer",
     "locked": false,
     "points": 4,
     "solution": true
    }
   },
   "outputs": [],
   "source": [
    "def get_median(input_list):\n",
    "    '''\n",
    "    Accepts a list of integers, and returns the median of the list.\n",
    "    \n",
    "    Parameters\n",
    "    ----------\n",
    "    input_list: A list of integers.\n",
    "      \n",
    "    Returns\n",
    "    -------\n",
    "    median: A float. The median of input_list.\n",
    "            If there is an even number of values in the list,\n",
    "            there is no single middle value.\n",
    "            In this case, take the median to be the mean of the two middle values.\n",
    "\n",
    "    '''\n",
    "    \n",
    "    leng = len(input_list)\n",
    "    if leng % 2: #Enters if leng is odd\n",
    "        median = float(sorted(input_list)[leng//2])\n",
    "    else:\n",
    "        median = get_mean(sorted(input_list)[leng//2-1:leng//2+1])\n",
    "    return median"
   ]
  },
  {
   "cell_type": "code",
   "execution_count": 9,
   "metadata": {
    "collapsed": false,
    "deletable": false,
    "nbgrader": {
     "checksum": "66862bd35a286941b35736116ecae793",
     "grade": true,
     "grade_id": "get_median_test",
     "locked": true,
     "points": 6,
     "solution": false
    }
   },
   "outputs": [],
   "source": [
    "assert_equal(get_median([0, 1, 2, 3, 4]), 2.0)\n",
    "assert_equal(get_median([4, 1, 3, 2, 0]), 2.0)\n",
    "assert_equal(get_median([0, 1, 2, 3, 4, 5]), 2.5)\n",
    "assert_equal(get_median([3, 4, 2, 1, 5, 0]), 2.5)\n",
    "assert_equal(get_median(list(range(0, 101))), 50.0)\n",
    "assert_equal(get_median(list(range(1, 101))), 50.5)"
   ]
  },
  {
   "cell_type": "markdown",
   "metadata": {
    "deletable": false,
    "nbgrader": {
     "checksum": "44c5d925b54b91f318c40ebb1387b963",
     "grade": false,
     "grade_id": "instructions_5",
     "locked": true,
     "solution": false
    }
   },
   "source": [
    "## Function: get\\_stats()\n",
    "\n",
    "- Write a function named `get_stats()` takes one argument, which should be a list of integers, and returns a tuple `(minimum, maximum, mean, median)`. The minimum and maximum values can be integers, but mean and median must be returned as floats."
   ]
  },
  {
   "cell_type": "code",
   "execution_count": 10,
   "metadata": {
    "collapsed": false,
    "deletable": false,
    "nbgrader": {
     "checksum": "5abff1b5f089d3e03aa426213578047a",
     "grade": false,
     "grade_id": "get_stats_answer",
     "locked": false,
     "solution": true
    }
   },
   "outputs": [],
   "source": [
    "def get_stats(input_list):\n",
    "    '''\n",
    "    Accepts a list of integers, and returns a tuple of four numbers:\n",
    "    minimum(int), maximum(int), mean(float), and median(float)\n",
    "    \n",
    "    Parameters\n",
    "    ----------\n",
    "    input_list: A list of integers.\n",
    "      \n",
    "    Returns\n",
    "    -------\n",
    "    minimum: An integer. The minimum of input_list.\n",
    "    maximum: An integer. The maximum of input_list.\n",
    "    mean: A float. The mean of input_list.\n",
    "    median: A float. The median of input_list.\n",
    "            If there is an even number of values in the list,\n",
    "            there is no single middle value.\n",
    "            In this case, take the median to be the mean of the two middle values.\n",
    "    '''\n",
    "    \n",
    "    a_tuple = (get_minimum(input_list), get_maximum(input_list), \n",
    "               get_mean(input_list), get_median(input_list))\n",
    "    \n",
    "    return a_tuple"
   ]
  },
  {
   "cell_type": "code",
   "execution_count": 11,
   "metadata": {
    "collapsed": false,
    "deletable": false,
    "nbgrader": {
     "checksum": "af91cd99f380c159b216ee66a58fc61d",
     "grade": true,
     "grade_id": "get_stats_test",
     "locked": true,
     "points": 6,
     "solution": false
    }
   },
   "outputs": [],
   "source": [
    "assert_equal(get_stats(list(range(51))), (0, 50, 25.0, 25.0))\n",
    "assert_equal(get_stats(list(range(52))), (0, 51, 25.5, 25.5))\n",
    "\n",
    "from random import shuffle\n",
    "test_list = list(range(51))\n",
    "shuffle(test_list)\n",
    "assert_equal(get_stats(test_list), (0, 50, 25.0, 25.0))\n",
    "\n",
    "test_list = list(range(52))\n",
    "shuffle(test_list)\n",
    "assert_equal(get_stats(test_list), (0, 51, 25.5, 25.5))"
   ]
  }
 ],
 "metadata": {
  "kernelspec": {
   "display_name": "Python 3",
   "language": "python",
   "name": "python3"
  },
  "language_info": {
   "codemirror_mode": {
    "name": "ipython",
    "version": 3
   },
   "file_extension": ".py",
   "mimetype": "text/x-python",
   "name": "python",
   "nbconvert_exporter": "python",
   "pygments_lexer": "ipython3",
   "version": "3.4.0"
  }
 },
 "nbformat": 4,
 "nbformat_minor": 0
}
