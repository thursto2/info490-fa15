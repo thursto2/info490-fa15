{
 "cells": [
  {
   "cell_type": "markdown",
   "metadata": {
    "deletable": false,
    "nbgrader": {
     "checksum": "41a30ab8ea0a3c800ba0e101da71ec81",
     "grade": false,
     "grade_id": "header",
     "locked": true,
     "solution": false
    }
   },
   "source": [
    "Before you turn this problem in, make sure everything runs as expected. First, restart the kernel (in the menubar, select Kernel → Restart) and then run all cells (in the menubar, select Cell → Run All).\n",
    "\n",
    "Make sure you fill in any place that says YOUR CODE HERE.\n",
    "Do not write your answer in anywhere else other than where it says YOUR CODE HERE.\n",
    "\n",
    "First, write your name and NetID below:"
   ]
  },
  {
   "cell_type": "code",
   "execution_count": 1,
   "metadata": {
    "collapsed": true
   },
   "outputs": [],
   "source": [
    "NAME = 'Bryce Thurston'\n",
    "NETID = 'thursto2'"
   ]
  },
  {
   "cell_type": "markdown",
   "metadata": {
    "deletable": false,
    "nbgrader": {
     "checksum": "a7042ed34c9d7be45aa01d10e171bd53",
     "grade": false,
     "grade_id": "instruction_0",
     "locked": true,
     "solution": false
    }
   },
   "source": [
    "# Problem 4.2\n",
    "\n",
    "In this problem, you will use IPython's ! function ([system shell commands](https://ipython.org/ipython-doc/dev/interactive/tutorial.html#system-shell-commands); see also [system shell access](https://ipython.org/ipython-doc/dev/interactive/reference.html#system-shell-access)) to perform Unix data processing. Specifically, we will download the [airline on-time performance data](http://stat-computing.org/dataexpo/2009/the-data.html), which we will use throught the course, explore the data set using `wc`, `head`, `tail`, etc., and perform data processing tasks using `sort`, `awk`, and `sed`.\n",
    "\n",
    "You can use IPython/Jupyter notebook environment not only for Python itself, but for Unix shell commands and more. To run any shell commands from the notebook, simply prefix a shell command with !. For example,"
   ]
  },
  {
   "cell_type": "code",
   "execution_count": 2,
   "metadata": {
    "collapsed": false,
    "deletable": false,
    "nbgrader": {
     "checksum": "f402ea0c84c510e0aaca2b12d763b145",
     "grade": false,
     "grade_id": "instruction_1",
     "locked": true,
     "solution": false
    }
   },
   "outputs": [
    {
     "name": "stdout",
     "output_type": "stream",
     "text": [
      "Checking internet connection...\n",
      "PING www.google.com (216.58.216.68) 56(84) bytes of data.\n",
      "64 bytes from ord30s21-in-f4.1e100.net (216.58.216.68): icmp_seq=1 ttl=52 time=3.94 ms\n",
      "64 bytes from ord30s21-in-f4.1e100.net (216.58.216.68): icmp_seq=2 ttl=52 time=4.12 ms\n",
      "64 bytes from ord30s21-in-f4.1e100.net (216.58.216.68): icmp_seq=3 ttl=52 time=3.92 ms\n",
      "64 bytes from ord30s21-in-f4.1e100.net (216.58.216.68): icmp_seq=4 ttl=52 time=3.97 ms\n",
      "64 bytes from ord30s21-in-f4.1e100.net (216.58.216.68): icmp_seq=5 ttl=52 time=4.04 ms\n",
      "\n",
      "--- www.google.com ping statistics ---\n",
      "5 packets transmitted, 5 received, 0% packet loss, time 4005ms\n",
      "rtt min/avg/max/mdev = 3.929/4.003/4.120/0.099 ms\n"
     ]
    }
   ],
   "source": [
    "!echo \"Checking internet connection...\"\n",
    "!ping -c 5 www.google.com"
   ]
  },
  {
   "cell_type": "markdown",
   "metadata": {
    "deletable": false,
    "nbgrader": {
     "checksum": "85d8b6079e5112cb7d55b5c89c7a114f",
     "grade": false,
     "grade_id": "instruction_2",
     "locked": true,
     "solution": false
    }
   },
   "source": [
    "You can also capture the results of a shell command and assign it to a Python variable with the syntax"
   ]
  },
  {
   "cell_type": "code",
   "execution_count": 3,
   "metadata": {
    "collapsed": true
   },
   "outputs": [],
   "source": [
    "myfiles = !ping -c 5 www.google.com"
   ]
  },
  {
   "cell_type": "markdown",
   "metadata": {},
   "source": [
    "Here, `myfiles` is a Python variable (a list of strings for each line in the output). The standard output from `ping -c 5 www.google.com` is captured and stored in the `myfiles` variable. Let's print out the value of `myfiles`:"
   ]
  },
  {
   "cell_type": "code",
   "execution_count": 4,
   "metadata": {
    "collapsed": false
   },
   "outputs": [
    {
     "name": "stdout",
     "output_type": "stream",
     "text": [
      "['PING www.google.com (216.58.216.68) 56(84) bytes of data.', '64 bytes from ord30s21-in-f68.1e100.net (216.58.216.68): icmp_seq=1 ttl=52 time=3.88 ms', '64 bytes from ord30s21-in-f68.1e100.net (216.58.216.68): icmp_seq=2 ttl=52 time=4.06 ms', '64 bytes from ord30s21-in-f68.1e100.net (216.58.216.68): icmp_seq=3 ttl=52 time=4.04 ms', '64 bytes from ord30s21-in-f68.1e100.net (216.58.216.68): icmp_seq=4 ttl=52 time=4.02 ms', '64 bytes from ord30s21-in-f68.1e100.net (216.58.216.68): icmp_seq=5 ttl=52 time=4.16 ms', '', '--- www.google.com ping statistics ---', '5 packets transmitted, 5 received, 0% packet loss, time 4004ms', 'rtt min/avg/max/mdev = 3.889/4.036/4.165/0.119 ms']\n"
     ]
    }
   ],
   "source": [
    "print(myfiles)"
   ]
  },
  {
   "cell_type": "markdown",
   "metadata": {
    "deletable": false,
    "nbgrader": {
     "checksum": "48c638fe3e5788a4e669f71a3b0566a6",
     "grade": false,
     "grade_id": "instructions_3",
     "locked": true,
     "solution": false
    }
   },
   "source": [
    "We see that the output of `ping` is stored as a list of strings.\n",
    "\n",
    "In this notebook, you will use system shell commands to perform Unix data processing. **You answers in this problem should all begin with !.**"
   ]
  },
  {
   "cell_type": "markdown",
   "metadata": {
    "deletable": false,
    "nbgrader": {
     "checksum": "abc7873ffa7d34d6851bfb9a0e8a6472",
     "grade": false,
     "grade_id": "instructions_0",
     "locked": true,
     "solution": false
    }
   },
   "source": [
    "### 1. Check where this notebook is located.\n",
    "\n",
    "First, we will store the path of the current working directory. The command that prints the current working directory is\n",
    "\n",
    "```shell\n",
    "$ pwd\n",
    "```\n",
    "\n",
    "So we can execute `pwd` in IPython notebooks by prepending it with `!`. We will assign the result to a Python variable named `temp_home`. The result is actually an object called [SList](https://ipython.org/ipython-doc/3/interactive/shell.html#string-lists), and the actual string can be obtained by appending `.s`, i.e. `temp_home.s`."
   ]
  },
  {
   "cell_type": "code",
   "execution_count": 5,
   "metadata": {
    "collapsed": false
   },
   "outputs": [
    {
     "name": "stdout",
     "output_type": "stream",
     "text": [
      "You are currently at /home/data_scientist/info_bob.\n"
     ]
    }
   ],
   "source": [
    "temp_home = !pwd\n",
    "print(\"You are currently at {}.\".format(temp_home.s))"
   ]
  },
  {
   "cell_type": "markdown",
   "metadata": {
    "deletable": false,
    "nbgrader": {
     "checksum": "4780803008a56b592331abd5181eed15",
     "grade": false,
     "grade_id": "instructions_4",
     "locked": true,
     "solution": false
    }
   },
   "source": [
    "In the following cell, we take the string variable `temp_home.s` that stores the path to our current working directory, and assign it to a shell environment variable `TEMP_HOME` (not a Python variable). The [%env](https://ipython.org/ipython-doc/3/interactive/magics.html#magic-env) IPython magic is equivalent to the shell's `export` command. So this IPython code cell,"
   ]
  },
  {
   "cell_type": "code",
   "execution_count": 6,
   "metadata": {
    "collapsed": false,
    "deletable": false,
    "nbgrader": {
     "checksum": "cc7de76f43dbd33123d7a2ac4cfcebfd",
     "grade": false,
     "grade_id": "instructions_5",
     "locked": true,
     "solution": false
    }
   },
   "outputs": [
    {
     "name": "stdout",
     "output_type": "stream",
     "text": [
      "env: TEMP_HOME=/home/data_scientist/info_bob\n"
     ]
    }
   ],
   "source": [
    "%env TEMP_HOME=$temp_home.s"
   ]
  },
  {
   "cell_type": "markdown",
   "metadata": {
    "deletable": false,
    "nbgrader": {
     "checksum": "84c42f26c8ac2daa8630a65e268e5776",
     "grade": false,
     "grade_id": "instructions_6",
     "locked": true,
     "solution": false
    }
   },
   "source": [
    "is equivalent to the shell command\n",
    "\n",
    "```shell\n",
    "$ export TEMP_HOME=$(pwd)\n",
    "```"
   ]
  },
  {
   "cell_type": "markdown",
   "metadata": {
    "deletable": false,
    "nbgrader": {
     "checksum": "200974bdd84e2683439bf2a70df57a9b",
     "grade": false,
     "grade_id": "instructions_7",
     "locked": true,
     "solution": false
    }
   },
   "source": [
    "Now `TEMP_HOME` should be a string that contains the path to our directory. Let's check the result by again using the `%env` magic function,"
   ]
  },
  {
   "cell_type": "code",
   "execution_count": 7,
   "metadata": {
    "collapsed": false,
    "deletable": false,
    "nbgrader": {
     "checksum": "0974d38465b8e42d2688bf4458cfc514",
     "grade": false,
     "grade_id": "instructions_8",
     "locked": true,
     "solution": false
    }
   },
   "outputs": [
    {
     "data": {
      "text/plain": [
       "'/home/data_scientist/info_bob'"
      ]
     },
     "execution_count": 7,
     "metadata": {},
     "output_type": "execute_result"
    }
   ],
   "source": [
    "%env TEMP_HOME"
   ]
  },
  {
   "cell_type": "markdown",
   "metadata": {
    "deletable": false,
    "nbgrader": {
     "checksum": "bb15f1bfb744008dcca83f27e7a2b006",
     "grade": false,
     "grade_id": "instructions_9",
     "locked": true,
     "solution": false
    }
   },
   "source": [
    "which is equivalent to\n",
    "\n",
    "```shell\n",
    "$ echo $TEMP_HOME\n",
    "```\n",
    "\n",
    "In the following cell, we are just making sure that everything worked. Here, `os.environ` is a dictionary of environment variables, so the value that correspond to the `TEMP_HOME` key of this dictionary is a string that represents the path where this notebooks is located."
   ]
  },
  {
   "cell_type": "code",
   "execution_count": 8,
   "metadata": {
    "collapsed": false,
    "deletable": false,
    "nbgrader": {
     "checksum": "398b0ebe39367156dc6e7561619d0531",
     "grade": true,
     "grade_id": "pwd_test",
     "locked": true,
     "points": 3,
     "solution": false
    }
   },
   "outputs": [],
   "source": [
    "import os\n",
    "from nose.tools import assert_equal, ok_\n",
    "assert_equal(temp_home.s, os.environ['TEMP_HOME'])"
   ]
  },
  {
   "cell_type": "markdown",
   "metadata": {
    "deletable": false,
    "nbgrader": {
     "checksum": "46155bf4948c946f7201667006095255",
     "grade": false,
     "grade_id": "instructions_11",
     "locked": true,
     "solution": false
    }
   },
   "source": [
    "### 2. Use `mkdir` to create a new sub-directory named `data`.\n",
    "\n",
    "Now that you understand how the shell commands work in IPython notebooks, let's practice what you have learned. In the following code cell, use `!` and the Unix command `mkdir` to create a new directory at `$TEMP_HOME/data`. Here and in all subsequent cells, you should use `$TEMP_HOME` to provide full paths."
   ]
  },
  {
   "cell_type": "code",
   "execution_count": 9,
   "metadata": {
    "collapsed": false,
    "deletable": false,
    "nbgrader": {
     "checksum": "a80ee262318b0411133303193f4f9d83",
     "grade": false,
     "grade_id": "mkdir_answer",
     "locked": false,
     "solution": true
    }
   },
   "outputs": [],
   "source": [
    "!mkdir data"
   ]
  },
  {
   "cell_type": "markdown",
   "metadata": {
    "deletable": false,
    "nbgrader": {
     "checksum": "94356e14f96c6108b484aad85bd25b41",
     "grade": false,
     "grade_id": "instructions_12",
     "locked": true,
     "points": 3,
     "solution": false
    }
   },
   "source": [
    "`ok_` is equivalent to `assert`. The following code cell checks if you have successfully created the `data` directory."
   ]
  },
  {
   "cell_type": "code",
   "execution_count": 10,
   "metadata": {
    "collapsed": false,
    "deletable": false,
    "nbgrader": {
     "checksum": "165ec6468f5903fcb6e5d26e03a612f9",
     "grade": true,
     "grade_id": "mkdir_test",
     "locked": true,
     "points": 3,
     "solution": false
    }
   },
   "outputs": [],
   "source": [
    "ok_(os.path.exists(os.path.join(temp_home.s, 'data')))"
   ]
  },
  {
   "cell_type": "markdown",
   "metadata": {
    "deletable": false,
    "nbgrader": {
     "checksum": "7f3398f29834ee2c92612675265f9f16",
     "grade": false,
     "grade_id": "instructions_13",
     "locked": true,
     "solution": false
    }
   },
   "source": [
    "### 3. Use `wget` or `curl` to download and store the [airline on-time performance data](http://stat-computing.org/dataexpo/2009/the-data.html) at `$TEMP_HOME/data`.\n",
    "\n",
    "Download the `2001.csv` file to the current directory and move it to `$TEMP_HOME/data`, or download it directly to the `$TEMP_HOME/data` directory."
   ]
  },
  {
   "cell_type": "code",
   "execution_count": 11,
   "metadata": {
    "collapsed": false,
    "deletable": false,
    "nbgrader": {
     "checksum": "af9defb7491c08f15d8b5b1374f2bb0b",
     "grade": false,
     "grade_id": "wget_answer",
     "locked": false,
     "solution": true
    }
   },
   "outputs": [
    {
     "name": "stdout",
     "output_type": "stream",
     "text": [
      "--2015-09-18 22:38:22--  http://stat-computing.org/dataexpo/2009/2001.csv.bz2\n",
      "Resolving stat-computing.org (stat-computing.org)... 54.231.168.115\n",
      "Connecting to stat-computing.org (stat-computing.org)|54.231.168.115|:80... connected.\n",
      "HTTP request sent, awaiting response... 200 OK\n",
      "Length: 83478700 (80M) [application/x-bzip2]\n",
      "Saving to: ‘data/2001.csv.bz2’\n",
      "\n",
      "100%[======================================>] 83,478,700  9.42MB/s   in 13s    \n",
      "\n",
      "2015-09-18 22:38:35 (6.35 MB/s) - ‘data/2001.csv.bz2’ saved [83478700/83478700]\n",
      "\n"
     ]
    }
   ],
   "source": [
    "!wget -P data http://stat-computing.org/dataexpo/2009/2001.csv.bz2"
   ]
  },
  {
   "cell_type": "markdown",
   "metadata": {
    "deletable": false,
    "nbgrader": {
     "checksum": "a2dd96fce9f8392fcf2c8052e46ddc79",
     "grade": false,
     "grade_id": "instructions_14",
     "locked": true,
     "solution": false
    }
   },
   "source": [
    "In the following code cell, we will calculate the [checksum](https://en.wikipedia.org/wiki/Checksum) of the file to check if you have the correct file. Don't worry if you don't understand the code; just make sure that it doesn't produce any errors."
   ]
  },
  {
   "cell_type": "code",
   "execution_count": 12,
   "metadata": {
    "collapsed": false,
    "deletable": false,
    "nbgrader": {
     "checksum": "7fa77a70afc92ccc14c4855caf8ee644",
     "grade": true,
     "grade_id": "wget_test",
     "locked": true,
     "points": 3,
     "solution": false
    }
   },
   "outputs": [],
   "source": [
    "def get_checksum(filename):\n",
    "    import hashlib\n",
    "    with open(filename, 'rb') as f:\n",
    "        md5 = hashlib.md5(f.read())\n",
    "    return md5.hexdigest()\n",
    "\n",
    "assert_equal(get_checksum(os.path.join(temp_home.s, 'data', '2001.csv.bz2')), 'e855ba7cc04f560199953833305a0f90')"
   ]
  },
  {
   "cell_type": "markdown",
   "metadata": {
    "deletable": false,
    "nbgrader": {
     "checksum": "f97d080645e1abaee8e497a4d8cc7bbb",
     "grade": false,
     "grade_id": "instructions_15",
     "locked": true,
     "solution": false
    }
   },
   "source": [
    "### 4. Extract the compressed file.\n",
    "\n",
    "Since the downloaded file is compressed, we have to extract it. Use `bzip2` with the `-d` option to extract the flight data file you downloaded in the previous section to `$TEMP_HOME/data`."
   ]
  },
  {
   "cell_type": "code",
   "execution_count": 13,
   "metadata": {
    "collapsed": false,
    "deletable": false,
    "nbgrader": {
     "checksum": "772a4e3ac6ab462b3c91a5cf2a954a36",
     "grade": false,
     "grade_id": "bzip_answer",
     "locked": false,
     "solution": true
    }
   },
   "outputs": [],
   "source": [
    "!bzip2 -d $TEMP_HOME/data/2001.csv.bz2"
   ]
  },
  {
   "cell_type": "code",
   "execution_count": 14,
   "metadata": {
    "collapsed": false,
    "deletable": false,
    "nbgrader": {
     "checksum": "86db98ac5c1283d50070d9193674aea3",
     "grade": true,
     "grade_id": "bzip_test",
     "locked": true,
     "points": 3,
     "solution": false
    }
   },
   "outputs": [],
   "source": [
    "assert_equal(get_checksum(os.path.join(temp_home.s, 'data', '2001.csv')), '3ca459bb83ad2074fcb4c8b88d28fcaf')"
   ]
  },
  {
   "cell_type": "markdown",
   "metadata": {
    "deletable": false,
    "nbgrader": {
     "checksum": "2826d38229852e7ba37993fa39bd567f",
     "grade": false,
     "grade_id": "instructions_16",
     "locked": true,
     "solution": false
    }
   },
   "source": [
    "### 5. Use `wc` to count the number of lines in the CSV (Comma Separated Values) file, and redirect the output to a file named `2001.csv.nlines`.\n",
    "\n",
    "- Important: Create `2001.csv.nlines` in the same directory where this notebook is, not the `data` directory. Thus, you should probably use `$TEMP_HOME/data/2001.csv` to refer to the original `2001.csv` file, and use `$TEMP_HOME/2001.csv.nlines` (no `data/` in between) to refer to the output file."
   ]
  },
  {
   "cell_type": "code",
   "execution_count": 15,
   "metadata": {
    "collapsed": false,
    "deletable": false,
    "nbgrader": {
     "checksum": "4980e20407f709bda32a7dceb288ba32",
     "grade": false,
     "grade_id": "wc_answer",
     "locked": false,
     "solution": true
    }
   },
   "outputs": [],
   "source": [
    "!wc -l <$TEMP_HOME/data/2001.csv > $TEMP_HOME/2001.csv.nlines"
   ]
  },
  {
   "cell_type": "markdown",
   "metadata": {},
   "source": [
    "You might to check the result by using the `%cat` IPython magic, which is obviously similar to the [cat](https://en.wikipedia.org/wiki/Cat_(Unix) of Unix."
   ]
  },
  {
   "cell_type": "code",
   "execution_count": 16,
   "metadata": {
    "collapsed": false,
    "deletable": false,
    "nbgrader": {
     "checksum": "97d65dfc6bb4e2849da7282fce34338f",
     "grade": false,
     "grade_id": "wc_cat",
     "locked": true,
     "solution": false
    }
   },
   "outputs": [
    {
     "name": "stdout",
     "output_type": "stream",
     "text": [
      "5967781\r\n"
     ]
    }
   ],
   "source": [
    "%cat $TEMP_HOME/2001.csv.nlines"
   ]
  },
  {
   "cell_type": "markdown",
   "metadata": {
    "deletable": false,
    "nbgrader": {
     "checksum": "b450d01a5f5af1971f0d7d8d46b7b50e",
     "grade": false,
     "grade_id": "instructions_17",
     "locked": true,
     "solution": false
    }
   },
   "source": [
    "In the following cell, we open the resulting `2001.csv.nlines` file, read its contents, and compare the string with what the number of lines should be. Don't worry if you don't understand the code yet; just make sure that it doesn't produce any errors."
   ]
  },
  {
   "cell_type": "code",
   "execution_count": 17,
   "metadata": {
    "collapsed": false,
    "deletable": false,
    "nbgrader": {
     "checksum": "e4ce660b0f84790af577ccc560c093c5",
     "grade": true,
     "grade_id": "wc_test",
     "locked": true,
     "points": 3,
     "solution": false
    }
   },
   "outputs": [],
   "source": [
    "nlines_answer = '''\n",
    "5967781\n",
    "'''.strip().split('\\n')\n",
    "\n",
    "your_nlines = !cat $TEMP_HOME/2001.csv.nlines\n",
    "\n",
    "assert_equal(your_nlines, nlines_answer)"
   ]
  },
  {
   "cell_type": "markdown",
   "metadata": {
    "deletable": false,
    "nbgrader": {
     "checksum": "04fe7f8d16572a3ad8dd82fd995a32e7",
     "grade": false,
     "grade_id": "instructions_18",
     "locked": true,
     "solution": false
    }
   },
   "source": [
    "### 7. Use `head` to print the first 5 lines of the CSV file, and redirect all output to another file named `2001.csv.head`.\n",
    "\n",
    "Note that you are not displaying the output to the screen. You should redirect the output to a file located at `$TEMP_HOME/2001.csv.head`, so that `2001.csv.head` contains the first 5 lines of `2001.csv`. But it might be useful to use `head` or `%cat` magic function to display the output anyway to check your answer."
   ]
  },
  {
   "cell_type": "code",
   "execution_count": 18,
   "metadata": {
    "collapsed": false,
    "deletable": false,
    "nbgrader": {
     "checksum": "5ed4a62759476dd37423604f4b9a17be",
     "grade": false,
     "grade_id": "head_answer",
     "locked": false,
     "solution": true
    }
   },
   "outputs": [],
   "source": [
    "!head -5 $TEMP_HOME/data/2001.csv > $TEMP_HOME/2001.csv.head"
   ]
  },
  {
   "cell_type": "code",
   "execution_count": 19,
   "metadata": {
    "collapsed": false
   },
   "outputs": [
    {
     "name": "stdout",
     "output_type": "stream",
     "text": [
      "Year,Month,DayofMonth,DayOfWeek,DepTime,CRSDepTime,ArrTime,CRSArrTime,UniqueCarrier,FlightNum,TailNum,ActualElapsedTime,CRSElapsedTime,AirTime,ArrDelay,DepDelay,Origin,Dest,Distance,TaxiIn,TaxiOut,Cancelled,CancellationCode,Diverted,CarrierDelay,WeatherDelay,NASDelay,SecurityDelay,LateAircraftDelay\r\n",
      "2001,1,17,3,1806,1810,1931,1934,US,375,N700��,85,84,60,-3,-4,BWI,CLT,361,5,20,0,NA,0,NA,NA,NA,NA,NA\r\n",
      "2001,1,18,4,1805,1810,1938,1934,US,375,N713��,93,84,64,4,-5,BWI,CLT,361,9,20,0,NA,0,NA,NA,NA,NA,NA\r\n",
      "2001,1,19,5,1821,1810,1957,1934,US,375,N702��,96,84,80,23,11,BWI,CLT,361,6,10,0,NA,0,NA,NA,NA,NA,NA\r\n",
      "2001,1,20,6,1807,1810,1944,1934,US,375,N701��,97,84,66,10,-3,BWI,CLT,361,4,27,0,NA,0,NA,NA,NA,NA,NA\r\n"
     ]
    }
   ],
   "source": [
    "%cat $TEMP_HOME/2001.csv.head"
   ]
  },
  {
   "cell_type": "code",
   "execution_count": 20,
   "metadata": {
    "collapsed": false,
    "deletable": false,
    "nbgrader": {
     "checksum": "c6dfcbdd321227fea46a58dd77b9f1a8",
     "grade": true,
     "grade_id": "head_test",
     "locked": true,
     "points": 3,
     "solution": false
    }
   },
   "outputs": [],
   "source": [
    "head_answer = '''\n",
    "Year,Month,DayofMonth,DayOfWeek,DepTime,CRSDepTime,ArrTime,CRSArrTime,UniqueCarrier,FlightNum,TailNum,ActualElapsedTime,CRSElapsedTime,AirTime,ArrDelay,DepDelay,Origin,Dest,Distance,TaxiIn,TaxiOut,Cancelled,CancellationCode,Diverted,CarrierDelay,WeatherDelay,NASDelay,SecurityDelay,LateAircraftDelay\n",
    "2001,1,17,3,1806,1810,1931,1934,US,375,N700��,85,84,60,-3,-4,BWI,CLT,361,5,20,0,NA,0,NA,NA,NA,NA,NA\n",
    "2001,1,18,4,1805,1810,1938,1934,US,375,N713��,93,84,64,4,-5,BWI,CLT,361,9,20,0,NA,0,NA,NA,NA,NA,NA\n",
    "2001,1,19,5,1821,1810,1957,1934,US,375,N702��,96,84,80,23,11,BWI,CLT,361,6,10,0,NA,0,NA,NA,NA,NA,NA\n",
    "2001,1,20,6,1807,1810,1944,1934,US,375,N701��,97,84,66,10,-3,BWI,CLT,361,4,27,0,NA,0,NA,NA,NA,NA,NA\n",
    "'''.strip().split('\\n')\n",
    "\n",
    "your_head = !cat $TEMP_HOME/2001.csv.head\n",
    "\n",
    "assert_equal(your_head, head_answer)"
   ]
  },
  {
   "cell_type": "markdown",
   "metadata": {
    "deletable": false,
    "nbgrader": {
     "checksum": "ec49365118047c7ac1720891aff956ea",
     "grade": false,
     "grade_id": "instructions_19",
     "locked": true,
     "solution": false
    }
   },
   "source": [
    "### 7. Use `tail` to print the last 15 lines of the CSV file, and redirect all output to another file named `2001.csv.tail`.\n",
    "\n",
    "Redirect the output to a file at `$TEMP_HOME/2001.csv.tail`."
   ]
  },
  {
   "cell_type": "code",
   "execution_count": 21,
   "metadata": {
    "collapsed": true,
    "deletable": false,
    "nbgrader": {
     "checksum": "74106fbfc4d991957802ed18150c5c61",
     "grade": false,
     "grade_id": "tail_answer",
     "locked": false,
     "solution": true
    }
   },
   "outputs": [],
   "source": [
    "! tail -15 $TEMP_HOME/data/2001.csv > $TEMP_HOME/2001.csv.tail"
   ]
  },
  {
   "cell_type": "code",
   "execution_count": 22,
   "metadata": {
    "collapsed": false,
    "nbgrader": {
     "grade": false,
     "locked": false,
     "solution": false
    }
   },
   "outputs": [
    {
     "name": "stdout",
     "output_type": "stream",
     "text": [
      "2001,12,4,2,656,700,1156,1155,DL,678,-N916D,180,175,153,1,-4,ONT,DFW,1189,6,21,0,NA,0,NA,NA,NA,NA,NA\r\n",
      "2001,12,5,3,704,700,1147,1155,DL,678,N904D1,163,175,142,-8,4,ONT,DFW,1189,8,13,0,NA,0,NA,NA,NA,NA,NA\r\n",
      "2001,12,6,4,656,700,1152,1155,DL,678,-N914D,176,175,148,-3,-4,ONT,DFW,1189,9,19,0,NA,0,NA,NA,NA,NA,NA\r\n",
      "2001,12,7,5,658,700,1150,1155,DL,678,N902D1,172,175,142,-5,-2,ONT,DFW,1189,13,17,0,NA,0,NA,NA,NA,NA,NA\r\n",
      "2001,12,8,6,656,700,1153,1155,DL,678,-N916D,177,175,161,-2,-4,ONT,DFW,1189,4,12,0,NA,0,NA,NA,NA,NA,NA\r\n",
      "2001,12,9,7,656,700,1144,1155,DL,678,N905D1,168,175,146,-11,-4,ONT,DFW,1189,10,12,0,NA,0,NA,NA,NA,NA,NA\r\n",
      "2001,12,10,1,655,700,1135,1155,DL,678,-N914D,160,175,138,-20,-5,ONT,DFW,1189,11,11,0,NA,0,NA,NA,NA,NA,NA\r\n",
      "2001,12,11,2,652,700,1149,1155,DL,678,N903D1,177,175,148,-6,-8,ONT,DFW,1189,9,20,0,NA,0,NA,NA,NA,NA,NA\r\n",
      "2001,12,12,3,704,700,1215,1155,DL,678,N901D1,191,175,159,20,4,ONT,DFW,1189,8,24,0,NA,0,NA,NA,NA,NA,NA\r\n",
      "2001,12,13,4,653,700,1146,1155,DL,678,N907D1,173,175,146,-9,-7,ONT,DFW,1189,15,12,0,NA,0,NA,NA,NA,NA,NA\r\n",
      "2001,12,14,5,704,700,1159,1155,DL,678,-N914D,175,175,148,4,4,ONT,DFW,1189,14,13,0,NA,0,NA,NA,NA,NA,NA\r\n",
      "2001,12,15,6,708,700,1158,1155,DL,678,-N913D,170,175,143,3,8,ONT,DFW,1189,9,18,0,NA,0,NA,NA,NA,NA,NA\r\n",
      "2001,12,16,7,656,700,1147,1155,DL,678,-N910D,171,175,153,-8,-4,ONT,DFW,1189,7,11,0,NA,0,NA,NA,NA,NA,NA\r\n",
      "2001,12,17,1,656,700,1151,1155,DL,678,N906D1,175,175,151,-4,-4,ONT,DFW,1189,13,11,0,NA,0,NA,NA,NA,NA,NA\r\n",
      "2001,12,18,2,709,700,1158,1155,DL,678,N905D1,169,175,143,3,9,ONT,DFW,1189,10,16,0,NA,0,NA,NA,NA,NA,NA\r\n"
     ]
    }
   ],
   "source": [
    "%cat $TEMP_HOME/2001.csv.tail"
   ]
  },
  {
   "cell_type": "code",
   "execution_count": 23,
   "metadata": {
    "collapsed": false,
    "deletable": false,
    "nbgrader": {
     "checksum": "79d0f8ec31df9f9e27ff0414e6ca1d7d",
     "grade": true,
     "grade_id": "tail_test",
     "locked": true,
     "points": 3,
     "solution": false
    }
   },
   "outputs": [],
   "source": [
    "tail_answer = '''\n",
    "2001,12,4,2,656,700,1156,1155,DL,678,-N916D,180,175,153,1,-4,ONT,DFW,1189,6,21,0,NA,0,NA,NA,NA,NA,NA\n",
    "2001,12,5,3,704,700,1147,1155,DL,678,N904D1,163,175,142,-8,4,ONT,DFW,1189,8,13,0,NA,0,NA,NA,NA,NA,NA\n",
    "2001,12,6,4,656,700,1152,1155,DL,678,-N914D,176,175,148,-3,-4,ONT,DFW,1189,9,19,0,NA,0,NA,NA,NA,NA,NA\n",
    "2001,12,7,5,658,700,1150,1155,DL,678,N902D1,172,175,142,-5,-2,ONT,DFW,1189,13,17,0,NA,0,NA,NA,NA,NA,NA\n",
    "2001,12,8,6,656,700,1153,1155,DL,678,-N916D,177,175,161,-2,-4,ONT,DFW,1189,4,12,0,NA,0,NA,NA,NA,NA,NA\n",
    "2001,12,9,7,656,700,1144,1155,DL,678,N905D1,168,175,146,-11,-4,ONT,DFW,1189,10,12,0,NA,0,NA,NA,NA,NA,NA\n",
    "2001,12,10,1,655,700,1135,1155,DL,678,-N914D,160,175,138,-20,-5,ONT,DFW,1189,11,11,0,NA,0,NA,NA,NA,NA,NA\n",
    "2001,12,11,2,652,700,1149,1155,DL,678,N903D1,177,175,148,-6,-8,ONT,DFW,1189,9,20,0,NA,0,NA,NA,NA,NA,NA\n",
    "2001,12,12,3,704,700,1215,1155,DL,678,N901D1,191,175,159,20,4,ONT,DFW,1189,8,24,0,NA,0,NA,NA,NA,NA,NA\n",
    "2001,12,13,4,653,700,1146,1155,DL,678,N907D1,173,175,146,-9,-7,ONT,DFW,1189,15,12,0,NA,0,NA,NA,NA,NA,NA\n",
    "2001,12,14,5,704,700,1159,1155,DL,678,-N914D,175,175,148,4,4,ONT,DFW,1189,14,13,0,NA,0,NA,NA,NA,NA,NA\n",
    "2001,12,15,6,708,700,1158,1155,DL,678,-N913D,170,175,143,3,8,ONT,DFW,1189,9,18,0,NA,0,NA,NA,NA,NA,NA\n",
    "2001,12,16,7,656,700,1147,1155,DL,678,-N910D,171,175,153,-8,-4,ONT,DFW,1189,7,11,0,NA,0,NA,NA,NA,NA,NA\n",
    "2001,12,17,1,656,700,1151,1155,DL,678,N906D1,175,175,151,-4,-4,ONT,DFW,1189,13,11,0,NA,0,NA,NA,NA,NA,NA\n",
    "2001,12,18,2,709,700,1158,1155,DL,678,N905D1,169,175,143,3,9,ONT,DFW,1189,10,16,0,NA,0,NA,NA,NA,NA,NA'''.strip().split('\\n')\n",
    "\n",
    "your_tail = !cat $TEMP_HOME/2001.csv.tail\n",
    "\n",
    "assert_equal(your_tail, tail_answer)"
   ]
  },
  {
   "cell_type": "markdown",
   "metadata": {
    "deletable": false,
    "nbgrader": {
     "checksum": "d6b13bf5620706f557cba10ce07e2295",
     "grade": false,
     "grade_id": "instructions_20",
     "locked": true,
     "solution": false
    }
   },
   "source": [
    "### 8. Use `sort` and sort the contents of `2001.csv.tail` using the 4th column, and redirect all output to `$TEMP_HOME/2001.csv.sorted`\n",
    "\n",
    "The 4th column is `DayofWeek`. You can see the description of each column on the [Data expo '09](http://stat-computing.org/dataexpo/2009/the-data.html) webpage."
   ]
  },
  {
   "cell_type": "code",
   "execution_count": 24,
   "metadata": {
    "collapsed": false,
    "deletable": false,
    "nbgrader": {
     "checksum": "7098d6278a79269affb5f8a89759a241",
     "grade": false,
     "grade_id": "sort_answer",
     "locked": false,
     "solution": true
    }
   },
   "outputs": [],
   "source": [
    "!sort -n -t \",\" -k 4 $TEMP_HOME/2001.csv.tail -o 2001.csv.sorted"
   ]
  },
  {
   "cell_type": "code",
   "execution_count": 25,
   "metadata": {
    "collapsed": false,
    "scrolled": true
   },
   "outputs": [
    {
     "name": "stdout",
     "output_type": "stream",
     "text": [
      "2001,12,10,1,655,700,1135,1155,DL,678,-N914D,160,175,138,-20,-5,ONT,DFW,1189,11,11,0,NA,0,NA,NA,NA,NA,NA\r\n",
      "2001,12,17,1,656,700,1151,1155,DL,678,N906D1,175,175,151,-4,-4,ONT,DFW,1189,13,11,0,NA,0,NA,NA,NA,NA,NA\r\n",
      "2001,12,11,2,652,700,1149,1155,DL,678,N903D1,177,175,148,-6,-8,ONT,DFW,1189,9,20,0,NA,0,NA,NA,NA,NA,NA\r\n",
      "2001,12,4,2,656,700,1156,1155,DL,678,-N916D,180,175,153,1,-4,ONT,DFW,1189,6,21,0,NA,0,NA,NA,NA,NA,NA\r\n",
      "2001,12,18,2,709,700,1158,1155,DL,678,N905D1,169,175,143,3,9,ONT,DFW,1189,10,16,0,NA,0,NA,NA,NA,NA,NA\r\n",
      "2001,12,5,3,704,700,1147,1155,DL,678,N904D1,163,175,142,-8,4,ONT,DFW,1189,8,13,0,NA,0,NA,NA,NA,NA,NA\r\n",
      "2001,12,12,3,704,700,1215,1155,DL,678,N901D1,191,175,159,20,4,ONT,DFW,1189,8,24,0,NA,0,NA,NA,NA,NA,NA\r\n",
      "2001,12,13,4,653,700,1146,1155,DL,678,N907D1,173,175,146,-9,-7,ONT,DFW,1189,15,12,0,NA,0,NA,NA,NA,NA,NA\r\n",
      "2001,12,6,4,656,700,1152,1155,DL,678,-N914D,176,175,148,-3,-4,ONT,DFW,1189,9,19,0,NA,0,NA,NA,NA,NA,NA\r\n",
      "2001,12,7,5,658,700,1150,1155,DL,678,N902D1,172,175,142,-5,-2,ONT,DFW,1189,13,17,0,NA,0,NA,NA,NA,NA,NA\r\n",
      "2001,12,14,5,704,700,1159,1155,DL,678,-N914D,175,175,148,4,4,ONT,DFW,1189,14,13,0,NA,0,NA,NA,NA,NA,NA\r\n",
      "2001,12,8,6,656,700,1153,1155,DL,678,-N916D,177,175,161,-2,-4,ONT,DFW,1189,4,12,0,NA,0,NA,NA,NA,NA,NA\r\n",
      "2001,12,15,6,708,700,1158,1155,DL,678,-N913D,170,175,143,3,8,ONT,DFW,1189,9,18,0,NA,0,NA,NA,NA,NA,NA\r\n",
      "2001,12,9,7,656,700,1144,1155,DL,678,N905D1,168,175,146,-11,-4,ONT,DFW,1189,10,12,0,NA,0,NA,NA,NA,NA,NA\r\n",
      "2001,12,16,7,656,700,1147,1155,DL,678,-N910D,171,175,153,-8,-4,ONT,DFW,1189,7,11,0,NA,0,NA,NA,NA,NA,NA\r\n"
     ]
    }
   ],
   "source": [
    "%cat $TEMP_HOME/2001.csv.sorted"
   ]
  },
  {
   "cell_type": "code",
   "execution_count": 26,
   "metadata": {
    "collapsed": false,
    "deletable": false,
    "nbgrader": {
     "checksum": "0dc0d4d2ddd3bd4a5863fcb87d16429d",
     "grade": true,
     "grade_id": "sort_test",
     "locked": true,
     "points": 3,
     "solution": false
    }
   },
   "outputs": [],
   "source": [
    "sort_answer = '''\n",
    "2001,12,10,1,655,700,1135,1155,DL,678,-N914D,160,175,138,-20,-5,ONT,DFW,1189,11,11,0,NA,0,NA,NA,NA,NA,NA\n",
    "2001,12,17,1,656,700,1151,1155,DL,678,N906D1,175,175,151,-4,-4,ONT,DFW,1189,13,11,0,NA,0,NA,NA,NA,NA,NA\n",
    "2001,12,11,2,652,700,1149,1155,DL,678,N903D1,177,175,148,-6,-8,ONT,DFW,1189,9,20,0,NA,0,NA,NA,NA,NA,NA\n",
    "2001,12,4,2,656,700,1156,1155,DL,678,-N916D,180,175,153,1,-4,ONT,DFW,1189,6,21,0,NA,0,NA,NA,NA,NA,NA\n",
    "2001,12,18,2,709,700,1158,1155,DL,678,N905D1,169,175,143,3,9,ONT,DFW,1189,10,16,0,NA,0,NA,NA,NA,NA,NA\n",
    "2001,12,5,3,704,700,1147,1155,DL,678,N904D1,163,175,142,-8,4,ONT,DFW,1189,8,13,0,NA,0,NA,NA,NA,NA,NA\n",
    "2001,12,12,3,704,700,1215,1155,DL,678,N901D1,191,175,159,20,4,ONT,DFW,1189,8,24,0,NA,0,NA,NA,NA,NA,NA\n",
    "2001,12,13,4,653,700,1146,1155,DL,678,N907D1,173,175,146,-9,-7,ONT,DFW,1189,15,12,0,NA,0,NA,NA,NA,NA,NA\n",
    "2001,12,6,4,656,700,1152,1155,DL,678,-N914D,176,175,148,-3,-4,ONT,DFW,1189,9,19,0,NA,0,NA,NA,NA,NA,NA\n",
    "2001,12,7,5,658,700,1150,1155,DL,678,N902D1,172,175,142,-5,-2,ONT,DFW,1189,13,17,0,NA,0,NA,NA,NA,NA,NA\n",
    "2001,12,14,5,704,700,1159,1155,DL,678,-N914D,175,175,148,4,4,ONT,DFW,1189,14,13,0,NA,0,NA,NA,NA,NA,NA\n",
    "2001,12,8,6,656,700,1153,1155,DL,678,-N916D,177,175,161,-2,-4,ONT,DFW,1189,4,12,0,NA,0,NA,NA,NA,NA,NA\n",
    "2001,12,15,6,708,700,1158,1155,DL,678,-N913D,170,175,143,3,8,ONT,DFW,1189,9,18,0,NA,0,NA,NA,NA,NA,NA\n",
    "2001,12,9,7,656,700,1144,1155,DL,678,N905D1,168,175,146,-11,-4,ONT,DFW,1189,10,12,0,NA,0,NA,NA,NA,NA,NA\n",
    "2001,12,16,7,656,700,1147,1155,DL,678,-N910D,171,175,153,-8,-4,ONT,DFW,1189,7,11,0,NA,0,NA,NA,NA,NA,NA\n",
    "'''.strip().split('\\n')\n",
    "\n",
    "your_sort = !cat $TEMP_HOME/2001.csv.sorted\n",
    "\n",
    "assert_equal(your_sort, sort_answer)"
   ]
  },
  {
   "cell_type": "markdown",
   "metadata": {
    "deletable": false,
    "nbgrader": {
     "checksum": "91c3eb511fdfab4278f7ed592b298863",
     "grade": false,
     "grade_id": "instructions_21",
     "locked": true,
     "solution": false
    }
   },
   "source": [
    "### 9. Use `awk` to print columns 2, 3, 5, and 17 of `2001.csv.tail`.\n",
    "\n",
    "You might have noticed there were very many columns when we used `head` and `tail` (29 columns if you count them; that's 5,967,781 rows times 29 columns). Let's grab only a few useful columns. The 2nd column is _Month_; the 3rd column is _DaysofMonth_; the 5th column is _DepTime_, the actual departure time in local time; and the 17th columns is _Origin_, the origin airport code. Use `awk` to extract columns 2, 3, 5, and 17, and output the result to another file at `$TEMP_HOME/2001.csv.awk`.\n",
    "\n",
    "- Hint 1: We have to tell `awk` that the columns are separated by commas (rather than whitespaces) by using the `-F \",\"` or simply `-F,` option. \n",
    "\n",
    "- Hint 2: After the options comes the _program_ part surrounded by single quotes. In this program part is the _pattern_ followed by the _action_ surrounded by curly brackets. That is, `awk` usage pattern is\n",
    "\n",
    "```shell\n",
    "$ awk [options] 'pattern{action}' file\n",
    "```\n",
    "\n",
    "    Note that the _pattern_ part is not necessary to do this problem.  Omitting the pattern part is also a valid `awk` usage pattern:\n",
    "\n",
    "```shell\n",
    "$ awk [options] '{action}' file\n",
    "```\n",
    "\n",
    "- Hint 3: I like to prepend the input file with `<` as this seems intuitive.  Although one may omit the optional `<` in front of the input file, one _must_ prepend the output file with `>` (because the input file is one of the arguments to `awk` while the output file is separate from the `awk` command).  In summary, to read columns 1, 2, and 3 of _file1.csv_ and save the output to a file named _file2.csv_, one would type\n",
    "\n",
    "```shell\n",
    "$ awk -F, '{print $1 \",\" $2 \",\" $3}' <file1.csv >file2.csv\n",
    "```"
   ]
  },
  {
   "cell_type": "code",
   "execution_count": 27,
   "metadata": {
    "collapsed": false,
    "deletable": false,
    "nbgrader": {
     "checksum": "d724553160d6e50cce90a88a79513a3c",
     "grade": false,
     "grade_id": "awk_answer",
     "locked": false,
     "solution": true
    }
   },
   "outputs": [],
   "source": [
    "! awk -F, '{print $2 \",\" $3 \",\" $5 \",\" $17}' <$TEMP_HOME/2001.csv.tail >$TEMP_HOME/2001.csv.awk"
   ]
  },
  {
   "cell_type": "code",
   "execution_count": 28,
   "metadata": {
    "collapsed": false,
    "nbgrader": {
     "grade": false,
     "locked": false,
     "solution": false
    }
   },
   "outputs": [
    {
     "name": "stdout",
     "output_type": "stream",
     "text": [
      "12,4,656,ONT\r\n",
      "12,5,704,ONT\r\n",
      "12,6,656,ONT\r\n",
      "12,7,658,ONT\r\n",
      "12,8,656,ONT\r\n",
      "12,9,656,ONT\r\n",
      "12,10,655,ONT\r\n",
      "12,11,652,ONT\r\n",
      "12,12,704,ONT\r\n",
      "12,13,653,ONT\r\n",
      "12,14,704,ONT\r\n",
      "12,15,708,ONT\r\n",
      "12,16,656,ONT\r\n",
      "12,17,656,ONT\r\n",
      "12,18,709,ONT\r\n"
     ]
    }
   ],
   "source": [
    "%cat $TEMP_HOME/2001.csv.awk"
   ]
  },
  {
   "cell_type": "code",
   "execution_count": 29,
   "metadata": {
    "collapsed": false,
    "deletable": false,
    "nbgrader": {
     "checksum": "35d04402dd4824f692f8c13647681e2b",
     "grade": true,
     "grade_id": "awk_test",
     "locked": true,
     "points": 3,
     "solution": false
    }
   },
   "outputs": [],
   "source": [
    "awk_answer = '''\n",
    "12,4,656,ONT\n",
    "12,5,704,ONT\n",
    "12,6,656,ONT\n",
    "12,7,658,ONT\n",
    "12,8,656,ONT\n",
    "12,9,656,ONT\n",
    "12,10,655,ONT\n",
    "12,11,652,ONT\n",
    "12,12,704,ONT\n",
    "12,13,653,ONT\n",
    "12,14,704,ONT\n",
    "12,15,708,ONT\n",
    "12,16,656,ONT\n",
    "12,17,656,ONT\n",
    "12,18,709,ONT\n",
    "'''.strip().split('\\n')\n",
    "\n",
    "your_awk = !cat $TEMP_HOME/2001.csv.awk\n",
    "\n",
    "assert_equal(your_awk, awk_answer)"
   ]
  },
  {
   "cell_type": "markdown",
   "metadata": {
    "deletable": false,
    "nbgrader": {
     "checksum": "e60d70b4daeb315b2bf90f0bd4a14f1b",
     "grade": false,
     "grade_id": "instructions_22",
     "locked": true,
     "solution": false
    }
   },
   "source": [
    "### 10. Use `sed` to change the commas in the `2001.csv.awk` file to vertical bars, and save the result to a file at `$TEMP_HOME/2001.csv.sed`."
   ]
  },
  {
   "cell_type": "code",
   "execution_count": 30,
   "metadata": {
    "collapsed": false,
    "deletable": false,
    "nbgrader": {
     "checksum": "16785c92fa8986d43f84d0cdee5b526c",
     "grade": false,
     "grade_id": "sed_answer",
     "locked": false,
     "solution": true
    }
   },
   "outputs": [],
   "source": [
    "!sed 's/,/|/g' $TEMP_HOME/2001.csv.awk > 2001.csv.sed"
   ]
  },
  {
   "cell_type": "code",
   "execution_count": 31,
   "metadata": {
    "collapsed": false
   },
   "outputs": [
    {
     "name": "stdout",
     "output_type": "stream",
     "text": [
      "12|4|656|ONT\r\n",
      "12|5|704|ONT\r\n",
      "12|6|656|ONT\r\n",
      "12|7|658|ONT\r\n",
      "12|8|656|ONT\r\n",
      "12|9|656|ONT\r\n",
      "12|10|655|ONT\r\n",
      "12|11|652|ONT\r\n",
      "12|12|704|ONT\r\n",
      "12|13|653|ONT\r\n",
      "12|14|704|ONT\r\n",
      "12|15|708|ONT\r\n",
      "12|16|656|ONT\r\n",
      "12|17|656|ONT\r\n",
      "12|18|709|ONT\r\n"
     ]
    }
   ],
   "source": [
    "%cat $TEMP_HOME/2001.csv.sed"
   ]
  },
  {
   "cell_type": "code",
   "execution_count": 32,
   "metadata": {
    "collapsed": false,
    "deletable": false,
    "nbgrader": {
     "checksum": "ad5f4c70982df50c67d4135786a40711",
     "grade": true,
     "grade_id": "sed_test",
     "locked": true,
     "points": 3,
     "solution": false
    }
   },
   "outputs": [],
   "source": [
    "sed_answer = '''\n",
    "12|4|656|ONT\n",
    "12|5|704|ONT\n",
    "12|6|656|ONT\n",
    "12|7|658|ONT\n",
    "12|8|656|ONT\n",
    "12|9|656|ONT\n",
    "12|10|655|ONT\n",
    "12|11|652|ONT\n",
    "12|12|704|ONT\n",
    "12|13|653|ONT\n",
    "12|14|704|ONT\n",
    "12|15|708|ONT\n",
    "12|16|656|ONT\n",
    "12|17|656|ONT\n",
    "12|18|709|ONT\n",
    "'''.strip().split('\\n')\n",
    "\n",
    "your_sed = !cat $TEMP_HOME/2001.csv.sed\n",
    "\n",
    "assert_equal(your_sed, sed_answer)"
   ]
  }
 ],
 "metadata": {
  "kernelspec": {
   "display_name": "Python 3",
   "language": "python",
   "name": "python3"
  },
  "language_info": {
   "codemirror_mode": {
    "name": "ipython",
    "version": 3
   },
   "file_extension": ".py",
   "mimetype": "text/x-python",
   "name": "python",
   "nbconvert_exporter": "python",
   "pygments_lexer": "ipython3",
   "version": "3.4.0"
  }
 },
 "nbformat": 4,
 "nbformat_minor": 0
}
