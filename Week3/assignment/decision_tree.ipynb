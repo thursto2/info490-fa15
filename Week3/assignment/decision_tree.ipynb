{
 "cells": [
  {
   "cell_type": "markdown",
   "metadata": {
    "deletable": false,
    "nbgrader": {
     "checksum": "41a30ab8ea0a3c800ba0e101da71ec81",
     "grade": false,
     "grade_id": "header",
     "locked": true,
     "solution": false
    }
   },
   "source": [
    "Before you turn this problem in, make sure everything runs as expected. First, restart the kernel (in the menubar, select Kernel → Restart) and then run all cells (in the menubar, select Cell → Run All).\n",
    "\n",
    "Make sure you fill in any place that says YOUR CODE HERE.\n",
    "Do not write your answer in anywhere else other than where it says YOUR CODE HERE.\n",
    "\n",
    "First, write your name and NetID below:"
   ]
  },
  {
   "cell_type": "code",
   "execution_count": 1,
   "metadata": {
    "collapsed": true
   },
   "outputs": [],
   "source": [
    "NAME = 'Bryce Thurston'\n",
    "NETID = 'thursto2'"
   ]
  },
  {
   "cell_type": "markdown",
   "metadata": {
    "deletable": false,
    "nbgrader": {
     "checksum": "b03ce462806ca0f6be14b8e380d73a33",
     "grade": false,
     "grade_id": "instruction_0_0",
     "locked": true,
     "solution": false
    }
   },
   "source": [
    "# Problem 3.2. Decision Tree\n",
    "\n",
    "In this problem, you will use what learned about functions and conditionals to build a [decision tree](https://en.wikipedia.org/wiki/Decision_tree) that predicts the survival of passengers on the Titanic.\n",
    "Decision trees are used in [decision tree learning](https://en.wikipedia.org/wiki/Decision_tree_learning),\n",
    "which we will learn more about in the later part of this course when we introduce [machine learning](https://en.wikipedia.org/wiki/Machine_learning).\n",
    "\n",
    "According to [Wikipedia](https://en.wikipedia.org/wiki/Decision_tree_learning#/media/File:CART_tree_titanic_survivors.png), someone named Stephen Milborrow claims that the following decision tree can predict whether a passenger on the Titanic survived or not:"
   ]
  },
  {
   "cell_type": "code",
   "execution_count": 2,
   "metadata": {
    "collapsed": false,
    "nbgrader": {
     "grade": false,
     "locked": false,
     "solution": false
    }
   },
   "outputs": [
    {
     "data": {
      "image/svg+xml": [
       "<svg height=\"308pt\" viewBox=\"0.00 0.00 238.00 308.00\" width=\"238pt\" xmlns=\"http://www.w3.org/2000/svg\" xmlns:xlink=\"http://www.w3.org/1999/xlink\">\n",
       "<g class=\"graph\" id=\"graph0\" transform=\"scale(1 1) rotate(0) translate(4 304)\">\n",
       "<title>%3</title>\n",
       "<polygon fill=\"white\" points=\"-4,4 -4,-304 234,-304 234,4 -4,4\" stroke=\"none\"/>\n",
       "<!-- A -->\n",
       "<g class=\"node\" id=\"node1\"><title>A</title>\n",
       "<ellipse cx=\"144\" cy=\"-282\" fill=\"none\" rx=\"55.3682\" ry=\"18\" stroke=\"black\"/>\n",
       "<text font-family=\"Times,serif\" font-size=\"14.00\" text-anchor=\"middle\" x=\"144\" y=\"-278.3\">Is sex male?</text>\n",
       "</g>\n",
       "<!-- B -->\n",
       "<g class=\"node\" id=\"node2\"><title>B</title>\n",
       "<ellipse cx=\"57\" cy=\"-194\" fill=\"none\" rx=\"57.2927\" ry=\"18\" stroke=\"black\"/>\n",
       "<text font-family=\"Times,serif\" font-size=\"14.00\" text-anchor=\"middle\" x=\"57\" y=\"-190.3\">Is age &gt; 9.5?</text>\n",
       "</g>\n",
       "<!-- A&#45;&gt;B -->\n",
       "<g class=\"edge\" id=\"edge1\"><title>A-&gt;B</title>\n",
       "<path d=\"M127.226,-264.418C114.022,-251.367 95.4565,-233.014 80.7301,-218.457\" fill=\"none\" stroke=\"black\"/>\n",
       "<polygon fill=\"black\" points=\"83.0003,-215.78 73.4279,-211.239 78.0792,-220.758 83.0003,-215.78\" stroke=\"black\"/>\n",
       "<text font-family=\"Times,serif\" font-size=\"14.00\" text-anchor=\"middle\" x=\"120\" y=\"-234.3\">Yes</text>\n",
       "</g>\n",
       "<!-- C -->\n",
       "<g class=\"node\" id=\"node3\"><title>C</title>\n",
       "<ellipse cx=\"174\" cy=\"-194\" fill=\"none\" rx=\"42.3701\" ry=\"18\" stroke=\"black\"/>\n",
       "<text font-family=\"Times,serif\" font-size=\"14.00\" text-anchor=\"middle\" x=\"174\" y=\"-190.3\">Survived</text>\n",
       "</g>\n",
       "<!-- A&#45;&gt;C -->\n",
       "<g class=\"edge\" id=\"edge2\"><title>A-&gt;C</title>\n",
       "<path d=\"M149.927,-264.009C154.159,-251.877 159.935,-235.32 164.768,-221.465\" fill=\"none\" stroke=\"black\"/>\n",
       "<polygon fill=\"black\" points=\"168.096,-222.55 168.085,-211.956 161.487,-220.245 168.096,-222.55\" stroke=\"black\"/>\n",
       "<text font-family=\"Times,serif\" font-size=\"14.00\" text-anchor=\"middle\" x=\"170.5\" y=\"-234.3\">No</text>\n",
       "</g>\n",
       "<!-- D -->\n",
       "<g class=\"node\" id=\"node4\"><title>D</title>\n",
       "<ellipse cx=\"35\" cy=\"-106\" fill=\"none\" rx=\"27.4223\" ry=\"18\" stroke=\"black\"/>\n",
       "<text font-family=\"Times,serif\" font-size=\"14.00\" text-anchor=\"middle\" x=\"35\" y=\"-102.3\">Died</text>\n",
       "</g>\n",
       "<!-- B&#45;&gt;D -->\n",
       "<g class=\"edge\" id=\"edge3\"><title>B-&gt;D</title>\n",
       "<path d=\"M52.6535,-176.009C49.58,-163.995 45.3965,-147.641 41.8735,-133.869\" fill=\"none\" stroke=\"black\"/>\n",
       "<polygon fill=\"black\" points=\"45.2067,-132.776 39.3375,-123.956 38.4251,-134.511 45.2067,-132.776\" stroke=\"black\"/>\n",
       "<text font-family=\"Times,serif\" font-size=\"14.00\" text-anchor=\"middle\" x=\"59\" y=\"-146.3\">Yes</text>\n",
       "</g>\n",
       "<!-- E -->\n",
       "<g class=\"node\" id=\"node5\"><title>E</title>\n",
       "<ellipse cx=\"144\" cy=\"-106\" fill=\"none\" rx=\"63.0666\" ry=\"18\" stroke=\"black\"/>\n",
       "<text font-family=\"Times,serif\" font-size=\"14.00\" text-anchor=\"middle\" x=\"144\" y=\"-102.3\">Is sibsp &gt; 2.5?</text>\n",
       "</g>\n",
       "<!-- B&#45;&gt;E -->\n",
       "<g class=\"edge\" id=\"edge4\"><title>B-&gt;E</title>\n",
       "<path d=\"M73.7745,-176.418C86.8934,-163.45 105.307,-145.248 119.988,-130.736\" fill=\"none\" stroke=\"black\"/>\n",
       "<polygon fill=\"black\" points=\"122.626,-133.05 127.277,-123.531 117.705,-128.072 122.626,-133.05\" stroke=\"black\"/>\n",
       "<text font-family=\"Times,serif\" font-size=\"14.00\" text-anchor=\"middle\" x=\"117.5\" y=\"-146.3\">No</text>\n",
       "</g>\n",
       "<!-- F -->\n",
       "<g class=\"node\" id=\"node6\"><title>F</title>\n",
       "<ellipse cx=\"100\" cy=\"-18\" fill=\"none\" rx=\"27.4223\" ry=\"18\" stroke=\"black\"/>\n",
       "<text font-family=\"Times,serif\" font-size=\"14.00\" text-anchor=\"middle\" x=\"100\" y=\"-14.3\">Died</text>\n",
       "</g>\n",
       "<!-- E&#45;&gt;F -->\n",
       "<g class=\"edge\" id=\"edge5\"><title>E-&gt;F</title>\n",
       "<path d=\"M135.307,-88.0092C128.958,-75.6 120.241,-58.5619 113.057,-44.5205\" fill=\"none\" stroke=\"black\"/>\n",
       "<polygon fill=\"black\" points=\"116.047,-42.6803 108.376,-35.372 109.815,-45.8687 116.047,-42.6803\" stroke=\"black\"/>\n",
       "<text font-family=\"Times,serif\" font-size=\"14.00\" text-anchor=\"middle\" x=\"137\" y=\"-58.3\">Yes</text>\n",
       "</g>\n",
       "<!-- G -->\n",
       "<g class=\"node\" id=\"node7\"><title>G</title>\n",
       "<ellipse cx=\"188\" cy=\"-18\" fill=\"none\" rx=\"42.3701\" ry=\"18\" stroke=\"black\"/>\n",
       "<text font-family=\"Times,serif\" font-size=\"14.00\" text-anchor=\"middle\" x=\"188\" y=\"-14.3\">Survived</text>\n",
       "</g>\n",
       "<!-- E&#45;&gt;G -->\n",
       "<g class=\"edge\" id=\"edge6\"><title>E-&gt;G</title>\n",
       "<path d=\"M152.693,-88.0092C159.001,-75.6796 167.647,-58.7801 174.805,-44.7909\" fill=\"none\" stroke=\"black\"/>\n",
       "<polygon fill=\"black\" points=\"178.036,-46.1596 179.475,-35.6629 171.804,-42.9712 178.036,-46.1596\" stroke=\"black\"/>\n",
       "<text font-family=\"Times,serif\" font-size=\"14.00\" text-anchor=\"middle\" x=\"178.5\" y=\"-58.3\">No</text>\n",
       "</g>\n",
       "</g>\n",
       "</svg>"
      ],
      "text/plain": [
       "<IPython.core.display.SVG object>"
      ]
     },
     "execution_count": 2,
     "metadata": {},
     "output_type": "execute_result"
    }
   ],
   "source": [
    "from IPython.display import SVG\n",
    "SVG('Digraph.gv.svg')"
   ]
  },
  {
   "cell_type": "markdown",
   "metadata": {
    "deletable": false,
    "nbgrader": {
     "checksum": "8be038ad5498f93c770762441e57601a",
     "grade": false,
     "grade_id": "instruction_0_1",
     "locked": true,
     "solution": false
    }
   },
   "source": [
    "(Here, _sibsp_ is the number of spouses or siblings aboard. )\n",
    "\n",
    "We will write a function for each question (i.e., each node). We will then combine the three questions into a function named `survived_titanic()` that represents this decision tree, which return `True` if the input values predicts that the passenger would have survived and `False` if the passenger would have died.\n",
    "\n",
    "## 1. Function: `is_male()`\n",
    "\n",
    "In the following code cell, write a function named `is_male()` that represents the top node, \"_is sex male?_\" The function takes one argument (a string), and returns `True` if `sex` is `\"male\"` and `False` if `sex` is `\"female\"`."
   ]
  },
  {
   "cell_type": "code",
   "execution_count": 3,
   "metadata": {
    "collapsed": false,
    "deletable": false,
    "nbgrader": {
     "checksum": "052a885291a63e3a455b1cc4490fda45",
     "grade": false,
     "grade_id": "is_male_answer",
     "locked": false,
     "solution": true
    }
   },
   "outputs": [],
   "source": [
    "def is_male(sex):\n",
    "    if sex == 'male':\n",
    "        return True\n",
    "    elif sex == 'female':\n",
    "        return False\n",
    "    print('Invalid input. Please enter \"male\" or \"female\".')\n",
    "    raise ValueError"
   ]
  },
  {
   "cell_type": "code",
   "execution_count": 4,
   "metadata": {
    "collapsed": false,
    "deletable": false,
    "nbgrader": {
     "checksum": "a40cbff523e804c09fb2a3a48eff70b2",
     "grade": true,
     "grade_id": "is_male_test",
     "locked": true,
     "points": 6,
     "solution": false
    }
   },
   "outputs": [],
   "source": [
    "from nose.tools import assert_equal\n",
    "assert_equal(is_male('male'), True)\n",
    "assert_equal(is_male('female'), False)"
   ]
  },
  {
   "cell_type": "markdown",
   "metadata": {
    "deletable": false,
    "nbgrader": {
     "checksum": "42ff1a90d09621f3e0c4ad765e1dce88",
     "grade": false,
     "grade_id": "instruction_1",
     "locked": true,
     "solution": false
    }
   },
   "source": [
    "## 2. Function: `is_old()`\n",
    "\n",
    "In the following code cell, write a function named `is_old()` that represents the second node, \"_is age greater than 9.5?_\" The function takes one argument (an integer), and returns `True` if `age` is greater 9.5 and `False` if `age` is less than 9.5."
   ]
  },
  {
   "cell_type": "code",
   "execution_count": 5,
   "metadata": {
    "collapsed": true,
    "deletable": false,
    "nbgrader": {
     "checksum": "5f37ae03eb18792c908fe0f50c57b6fc",
     "grade": false,
     "grade_id": "is_child_answer",
     "locked": false,
     "solution": true
    }
   },
   "outputs": [],
   "source": [
    "def is_old(age):\n",
    "    try:\n",
    "        if float(age) > 9.5: return True\n",
    "        return False\n",
    "    except ValueError:\n",
    "        print('Could not convert argument to float')\n",
    "        raise"
   ]
  },
  {
   "cell_type": "code",
   "execution_count": 6,
   "metadata": {
    "collapsed": false,
    "deletable": false,
    "nbgrader": {
     "checksum": "6af3786cf33ecca293db021ade13bb8e",
     "grade": true,
     "grade_id": "is_children_test",
     "locked": true,
     "points": 6,
     "solution": false
    }
   },
   "outputs": [],
   "source": [
    "assert_equal(is_old(1), False)\n",
    "assert_equal(is_old(9), False)\n",
    "assert_equal(is_old(10), True)\n",
    "assert_equal(is_old(20), True)\n",
    "assert_equal(is_old(30), True)"
   ]
  },
  {
   "cell_type": "markdown",
   "metadata": {
    "deletable": false,
    "nbgrader": {
     "checksum": "3fa9606ac61f61e9e99291f86074ed74",
     "grade": false,
     "grade_id": "instruction_2",
     "locked": true,
     "solution": false
    }
   },
   "source": [
    "## 3. Function: `has_many_sibsp()`\n",
    "\n",
    "In the following code cell, write a function named `has_many_sibsp()` that represents the second node, \"_is sibsp greater than 2.5?_\" (sibsp is the number spouses or siblings aboard.) The function takes one argument (an integer), and returns `True` if `sibsp` is greater 2.5 and `False` if `sibsp` is less than 2.5."
   ]
  },
  {
   "cell_type": "code",
   "execution_count": 7,
   "metadata": {
    "collapsed": true,
    "deletable": false,
    "nbgrader": {
     "checksum": "6011a8540ac5414a0c6df9b0f2123475",
     "grade": false,
     "grade_id": "has_family_answer",
     "locked": false,
     "solution": true
    }
   },
   "outputs": [],
   "source": [
    "def has_many_sibsp(sibsp):\n",
    "    try:\n",
    "        if float(sibsp) > 2.5: return True\n",
    "        return False\n",
    "    except ValueError:\n",
    "        print('Could not convert argument to float')\n",
    "        raise"
   ]
  },
  {
   "cell_type": "code",
   "execution_count": 8,
   "metadata": {
    "collapsed": false,
    "deletable": false,
    "nbgrader": {
     "checksum": "cd6ccf6906daab897be0602060192a2b",
     "grade": true,
     "grade_id": "has_family_test",
     "locked": true,
     "points": 6,
     "solution": false
    }
   },
   "outputs": [],
   "source": [
    "assert_equal(has_many_sibsp(0), False)\n",
    "assert_equal(has_many_sibsp(1), False)\n",
    "assert_equal(has_many_sibsp(2), False)\n",
    "assert_equal(has_many_sibsp(2.5), False)\n",
    "assert_equal(has_many_sibsp(3), True)\n",
    "assert_equal(has_many_sibsp(4), True)"
   ]
  },
  {
   "cell_type": "markdown",
   "metadata": {
    "deletable": false,
    "nbgrader": {
     "checksum": "264c0b22c563e659e560cf16e031a737",
     "grade": false,
     "grade_id": "instruction_3",
     "locked": true,
     "solution": false
    }
   },
   "source": [
    "## 4. Function: `survived_titanic()`\n",
    "\n",
    "In the following code cell, use the three functions, `is_male()`, `is_old()` and `has_many_sibsp()`, inside a function named `survived_titanic()` to represent the decision tree, \"_would the passenger have survived Titanic?_\" The function takes a string as the first argument, an integer as the second argument, and another integer as the third argument. It returns `True` if the passenger would have survied Titanic and `False` if the passenger would have died."
   ]
  },
  {
   "cell_type": "code",
   "execution_count": 9,
   "metadata": {
    "collapsed": false,
    "deletable": false,
    "nbgrader": {
     "checksum": "244c71c31f56ac63cbbbeffcbd933a61",
     "grade": false,
     "grade_id": "show_svg_1",
     "locked": true,
     "solution": false
    }
   },
   "outputs": [
    {
     "data": {
      "image/svg+xml": [
       "<svg height=\"308pt\" viewBox=\"0.00 0.00 238.00 308.00\" width=\"238pt\" xmlns=\"http://www.w3.org/2000/svg\" xmlns:xlink=\"http://www.w3.org/1999/xlink\">\n",
       "<g class=\"graph\" id=\"graph0\" transform=\"scale(1 1) rotate(0) translate(4 304)\">\n",
       "<title>%3</title>\n",
       "<polygon fill=\"white\" points=\"-4,4 -4,-304 234,-304 234,4 -4,4\" stroke=\"none\"/>\n",
       "<!-- A -->\n",
       "<g class=\"node\" id=\"node1\"><title>A</title>\n",
       "<ellipse cx=\"144\" cy=\"-282\" fill=\"none\" rx=\"55.3682\" ry=\"18\" stroke=\"black\"/>\n",
       "<text font-family=\"Times,serif\" font-size=\"14.00\" text-anchor=\"middle\" x=\"144\" y=\"-278.3\">Is sex male?</text>\n",
       "</g>\n",
       "<!-- B -->\n",
       "<g class=\"node\" id=\"node2\"><title>B</title>\n",
       "<ellipse cx=\"57\" cy=\"-194\" fill=\"none\" rx=\"57.2927\" ry=\"18\" stroke=\"black\"/>\n",
       "<text font-family=\"Times,serif\" font-size=\"14.00\" text-anchor=\"middle\" x=\"57\" y=\"-190.3\">Is age &gt; 9.5?</text>\n",
       "</g>\n",
       "<!-- A&#45;&gt;B -->\n",
       "<g class=\"edge\" id=\"edge1\"><title>A-&gt;B</title>\n",
       "<path d=\"M127.226,-264.418C114.022,-251.367 95.4565,-233.014 80.7301,-218.457\" fill=\"none\" stroke=\"black\"/>\n",
       "<polygon fill=\"black\" points=\"83.0003,-215.78 73.4279,-211.239 78.0792,-220.758 83.0003,-215.78\" stroke=\"black\"/>\n",
       "<text font-family=\"Times,serif\" font-size=\"14.00\" text-anchor=\"middle\" x=\"120\" y=\"-234.3\">Yes</text>\n",
       "</g>\n",
       "<!-- C -->\n",
       "<g class=\"node\" id=\"node3\"><title>C</title>\n",
       "<ellipse cx=\"174\" cy=\"-194\" fill=\"none\" rx=\"42.3701\" ry=\"18\" stroke=\"black\"/>\n",
       "<text font-family=\"Times,serif\" font-size=\"14.00\" text-anchor=\"middle\" x=\"174\" y=\"-190.3\">Survived</text>\n",
       "</g>\n",
       "<!-- A&#45;&gt;C -->\n",
       "<g class=\"edge\" id=\"edge2\"><title>A-&gt;C</title>\n",
       "<path d=\"M149.927,-264.009C154.159,-251.877 159.935,-235.32 164.768,-221.465\" fill=\"none\" stroke=\"black\"/>\n",
       "<polygon fill=\"black\" points=\"168.096,-222.55 168.085,-211.956 161.487,-220.245 168.096,-222.55\" stroke=\"black\"/>\n",
       "<text font-family=\"Times,serif\" font-size=\"14.00\" text-anchor=\"middle\" x=\"170.5\" y=\"-234.3\">No</text>\n",
       "</g>\n",
       "<!-- D -->\n",
       "<g class=\"node\" id=\"node4\"><title>D</title>\n",
       "<ellipse cx=\"35\" cy=\"-106\" fill=\"none\" rx=\"27.4223\" ry=\"18\" stroke=\"black\"/>\n",
       "<text font-family=\"Times,serif\" font-size=\"14.00\" text-anchor=\"middle\" x=\"35\" y=\"-102.3\">Died</text>\n",
       "</g>\n",
       "<!-- B&#45;&gt;D -->\n",
       "<g class=\"edge\" id=\"edge3\"><title>B-&gt;D</title>\n",
       "<path d=\"M52.6535,-176.009C49.58,-163.995 45.3965,-147.641 41.8735,-133.869\" fill=\"none\" stroke=\"black\"/>\n",
       "<polygon fill=\"black\" points=\"45.2067,-132.776 39.3375,-123.956 38.4251,-134.511 45.2067,-132.776\" stroke=\"black\"/>\n",
       "<text font-family=\"Times,serif\" font-size=\"14.00\" text-anchor=\"middle\" x=\"59\" y=\"-146.3\">Yes</text>\n",
       "</g>\n",
       "<!-- E -->\n",
       "<g class=\"node\" id=\"node5\"><title>E</title>\n",
       "<ellipse cx=\"144\" cy=\"-106\" fill=\"none\" rx=\"63.0666\" ry=\"18\" stroke=\"black\"/>\n",
       "<text font-family=\"Times,serif\" font-size=\"14.00\" text-anchor=\"middle\" x=\"144\" y=\"-102.3\">Is sibsp &gt; 2.5?</text>\n",
       "</g>\n",
       "<!-- B&#45;&gt;E -->\n",
       "<g class=\"edge\" id=\"edge4\"><title>B-&gt;E</title>\n",
       "<path d=\"M73.7745,-176.418C86.8934,-163.45 105.307,-145.248 119.988,-130.736\" fill=\"none\" stroke=\"black\"/>\n",
       "<polygon fill=\"black\" points=\"122.626,-133.05 127.277,-123.531 117.705,-128.072 122.626,-133.05\" stroke=\"black\"/>\n",
       "<text font-family=\"Times,serif\" font-size=\"14.00\" text-anchor=\"middle\" x=\"117.5\" y=\"-146.3\">No</text>\n",
       "</g>\n",
       "<!-- F -->\n",
       "<g class=\"node\" id=\"node6\"><title>F</title>\n",
       "<ellipse cx=\"100\" cy=\"-18\" fill=\"none\" rx=\"27.4223\" ry=\"18\" stroke=\"black\"/>\n",
       "<text font-family=\"Times,serif\" font-size=\"14.00\" text-anchor=\"middle\" x=\"100\" y=\"-14.3\">Died</text>\n",
       "</g>\n",
       "<!-- E&#45;&gt;F -->\n",
       "<g class=\"edge\" id=\"edge5\"><title>E-&gt;F</title>\n",
       "<path d=\"M135.307,-88.0092C128.958,-75.6 120.241,-58.5619 113.057,-44.5205\" fill=\"none\" stroke=\"black\"/>\n",
       "<polygon fill=\"black\" points=\"116.047,-42.6803 108.376,-35.372 109.815,-45.8687 116.047,-42.6803\" stroke=\"black\"/>\n",
       "<text font-family=\"Times,serif\" font-size=\"14.00\" text-anchor=\"middle\" x=\"137\" y=\"-58.3\">Yes</text>\n",
       "</g>\n",
       "<!-- G -->\n",
       "<g class=\"node\" id=\"node7\"><title>G</title>\n",
       "<ellipse cx=\"188\" cy=\"-18\" fill=\"none\" rx=\"42.3701\" ry=\"18\" stroke=\"black\"/>\n",
       "<text font-family=\"Times,serif\" font-size=\"14.00\" text-anchor=\"middle\" x=\"188\" y=\"-14.3\">Survived</text>\n",
       "</g>\n",
       "<!-- E&#45;&gt;G -->\n",
       "<g class=\"edge\" id=\"edge6\"><title>E-&gt;G</title>\n",
       "<path d=\"M152.693,-88.0092C159.001,-75.6796 167.647,-58.7801 174.805,-44.7909\" fill=\"none\" stroke=\"black\"/>\n",
       "<polygon fill=\"black\" points=\"178.036,-46.1596 179.475,-35.6629 171.804,-42.9712 178.036,-46.1596\" stroke=\"black\"/>\n",
       "<text font-family=\"Times,serif\" font-size=\"14.00\" text-anchor=\"middle\" x=\"178.5\" y=\"-58.3\">No</text>\n",
       "</g>\n",
       "</g>\n",
       "</svg>"
      ],
      "text/plain": [
       "<IPython.core.display.SVG object>"
      ]
     },
     "execution_count": 9,
     "metadata": {},
     "output_type": "execute_result"
    }
   ],
   "source": [
    "from IPython.display import SVG\n",
    "SVG('Digraph.gv.svg')"
   ]
  },
  {
   "cell_type": "code",
   "execution_count": 10,
   "metadata": {
    "collapsed": false,
    "deletable": false,
    "nbgrader": {
     "checksum": "f57938f2521d51149f12d0265f06741f",
     "grade": false,
     "grade_id": "survived_titanic_answer",
     "locked": false,
     "solution": true
    }
   },
   "outputs": [],
   "source": [
    "def survived_titanic(sex, age, sibsp):\n",
    "    if not is_male(sex): return True\n",
    "    if is_old(age): return False\n",
    "    return(not has_many_sibsp(sibsp))"
   ]
  },
  {
   "cell_type": "code",
   "execution_count": 11,
   "metadata": {
    "collapsed": false,
    "deletable": false,
    "nbgrader": {
     "checksum": "b7f78ea2b0e99fa13db94d03371eebde",
     "grade": true,
     "grade_id": "survived_titanic_test",
     "locked": true,
     "points": 12,
     "solution": false
    }
   },
   "outputs": [],
   "source": [
    "assert_equal(survived_titanic('male', 10, 2), False)\n",
    "assert_equal(survived_titanic('male', 9, 2), True)\n",
    "assert_equal(survived_titanic('male', 10, 3), False)\n",
    "assert_equal(survived_titanic('male', 9, 3), False)\n",
    "assert_equal(survived_titanic('female', 10, 2), True)\n",
    "assert_equal(survived_titanic('female', 9, 2), True)\n",
    "assert_equal(survived_titanic('female', 10, 3), True)\n",
    "assert_equal(survived_titanic('female', 9, 3), True)"
   ]
  }
 ],
 "metadata": {
  "kernelspec": {
   "display_name": "Python 3",
   "language": "python",
   "name": "python3"
  },
  "language_info": {
   "codemirror_mode": {
    "name": "ipython",
    "version": 3
   },
   "file_extension": ".py",
   "mimetype": "text/x-python",
   "name": "python",
   "nbconvert_exporter": "python",
   "pygments_lexer": "ipython3",
   "version": "3.4.0"
  }
 },
 "nbformat": 4,
 "nbformat_minor": 0
}
